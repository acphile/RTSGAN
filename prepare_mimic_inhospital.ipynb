{
 "cells": [
  {
   "cell_type": "code",
   "execution_count": null,
   "metadata": {},
   "outputs": [],
   "source": [
    "# Copyright (c) Microsoft Corporation. All rights reserved.\n",
    "# Licensed under the MIT License."
   ]
  },
  {
   "cell_type": "code",
   "execution_count": 1,
   "metadata": {},
   "outputs": [
    {
     "name": "stdout",
     "output_type": "stream",
     "text": [
      "Capillary refill rate 0.0 1.0\n",
      "Diastolic blood pressure 0.0 375.0\n",
      "Fraction inspired oxygen 0.2 1.1\n",
      "Glascow coma scale total 3.0 15.0\n",
      "Glucose 0.0 2200.0\n",
      "Height 0.0 275.0\n",
      "Mean blood pressure 0.0 375.0\n",
      "Oxygen saturation 0.0 150.0\n",
      "Respiratory rate 0.0 330.0\n",
      "Systolic blood pressure 0.0 375.0\n",
      "Temperature 14.2 47.0\n",
      "Weight 0.0 250.0\n",
      "pH 6.3 10.0\n"
     ]
    }
   ],
   "source": [
    "import pandas as pd\n",
    "import numpy as np\n",
    "import pickle\n",
    "%matplotlib inline\n",
    "import matplotlib.pyplot as plt\n",
    "from collections import Counter\n",
    "\n",
    "orders = ['Hours', 'Capillary refill rate', 'Diastolic blood pressure',\n",
    "       'Fraction inspired oxygen', 'Glascow coma scale eye opening',\n",
    "       'Glascow coma scale motor response', 'Glascow coma scale total',\n",
    "       'Glascow coma scale verbal response', 'Glucose', 'Heart Rate', 'Height',\n",
    "       'Mean blood pressure', 'Oxygen saturation', 'Respiratory rate',\n",
    "       'Systolic blood pressure', 'Temperature', 'Weight', 'pH']\n",
    "\n",
    "count = pd.read_csv('../mimic3-benchmarks/mimic3benchmark/resources/variable_ranges.csv', sep=',')\n",
    "limit = []\n",
    "cat_name = [\"Glascow coma scale eye opening\",\n",
    "\"Glascow coma scale motor response\",\n",
    "#\"Glascow coma scale total\",\n",
    "\"Glascow coma scale verbal response\"]\n",
    "for col in orders:\n",
    "    if len(count[(count['LEVEL2']==col)])==1 and col not in cat_name:\n",
    "        x = float(count[(count['LEVEL2']==col)]['OUTLIER LOW'])\n",
    "        y = float(count[(count['LEVEL2']==col)]['OUTLIER HIGH'])\n",
    "        limit.append((col, x, y))\n",
    "        print(col, x, y)\n",
    "\n",
    "refine_eye = {\n",
    "     \"None\": \"None\",\n",
    "     \"1 No Response\": \"1 No Response\",\n",
    "     \"2 To pain\": \"To Pain\", \n",
    "     \"To Pain\": \"To Pain\",\n",
    "     \"3 To speech\": \"To Speech\", \n",
    "     \"To Speech\": \"To Speech\",\n",
    "     \"4 Spontaneously\": \"Spontaneously\",\n",
    "     \"Spontaneously\": \"Spontaneously\"\n",
    "}\n",
    "refine_motor = {\n",
    "    \"1 No Response\": \"No response\",\n",
    "    \"No response\": \"No response\",\n",
    "    \"2 Abnorm extensn\": \"Abnormal extension\",\n",
    "    \"Abnormal extension\": \"Abnormal extension\",\n",
    "    \"3 Abnorm flexion\": \"Abnormal Flexion\",\n",
    "    \"Abnormal Flexion\": \"Abnormal Flexion\",\n",
    "    \"4 Flex-withdraws\": \"Flex-withdraws\",\n",
    "    \"Flex-withdraws\": \"Flex-withdraws\",\n",
    "    \"5 Localizes Pain\": \"Localizes Pain\",\n",
    "    \"Localizes Pain\": \"Localizes Pain\",\n",
    "    \"6 Obeys Commands\": \"Obeys Commands\",\n",
    "    \"Obeys Commands\": \"Obeys Commands\"\n",
    "}\n",
    "refine_verb = {\n",
    "    \"No Response-ETT\": \"No Response\",\n",
    "    \"No Response\": \"No Response\",\n",
    "    \"1 No Response\": \"No Response\",\n",
    "    \"1.0 ET/Trach\": \"No Response\",\n",
    "    \"2 Incomp sounds\": \"Incomprehensible sounds\",\n",
    "    \"Incomprehensible sounds\": \"Incomprehensible sounds\",\n",
    "    \"3 Inapprop words\": \"Inappropriate Words\",\n",
    "    \"Inappropriate Words\": \"Inappropriate Words\",\n",
    "    \"4 Confused\": \"Confused\",\n",
    "    \"Confused\": \"Confused\",\n",
    "    \"5 Oriented\": \"Oriented\",\n",
    "    \"Oriented\": \"Oriented\"\n",
    "}"
   ]
  },
  {
   "cell_type": "code",
   "execution_count": 2,
   "metadata": {},
   "outputs": [],
   "source": [
    "use_path = '../mimic3-benchmarks/data/in-hospital-mortality/train'\n",
    "def get_dataset(name_lis):\n",
    "    data = []\n",
    "    h = Counter()\n",
    "    w = Counter()\n",
    "    l = Counter()\n",
    "    height = []\n",
    "    drop_lis=[]\n",
    "    for i,(fi,label) in enumerate(zip(name_lis[\"stay\"],name_lis[\"y_true\"])):\n",
    "        df = pd.read_csv(\"{}/{}\".format(use_path, fi), sep=',')\n",
    "        if len(df)>150:\n",
    "            l[label]+=1\n",
    "            drop_lis.append(i)\n",
    "            continue\n",
    "            \n",
    "        h[df[\"Height\"].count()] += 1\n",
    "        w[df[\"Weight\"].count()] += 1\n",
    "        \"\"\"  \n",
    "        y = float(\"nan\")\n",
    "        for x in df[\"Height\"].unique():\n",
    "            if x==x:\n",
    "                y = x\n",
    "                break\n",
    "        height.append(y)\n",
    "        \"\"\"\n",
    "        if not df[\"Glascow coma scale eye opening\"].isna().all():\n",
    "            df[\"Glascow coma scale eye opening\"].replace(refine_eye, inplace=True)\n",
    "        if not df[\"Glascow coma scale motor response\"].isna().all():\n",
    "            df[\"Glascow coma scale motor response\"].replace(refine_motor, inplace=True)\n",
    "        if not df[\"Glascow coma scale verbal response\"].isna().all():\n",
    "            df[\"Glascow coma scale verbal response\"].replace(refine_verb, inplace=True)\n",
    "        #df.drop(columns = [\"Height\"], inplace=True)\n",
    "        data.append(df)\n",
    "        \n",
    "    name_lis.drop(labels=drop_lis, inplace=True)\n",
    "    #name_lis[\"Height\"] = np.array(height, dtype=object)\n",
    "    print(len(name_lis))\n",
    "    print(l)\n",
    "    return data\n"
   ]
  },
  {
   "cell_type": "code",
   "execution_count": 3,
   "metadata": {
    "scrolled": true
   },
   "outputs": [
    {
     "name": "stdout",
     "output_type": "stream",
     "text": [
      "17737\n",
      "Counter({0: 112, 1: 54})\n"
     ]
    }
   ],
   "source": [
    "name_lis = pd.read_csv(\"{}/listfile.csv\".format(use_path), sep=',')\n",
    "data = get_dataset(name_lis)"
   ]
  },
  {
   "cell_type": "code",
   "execution_count": 4,
   "metadata": {},
   "outputs": [
    {
     "name": "stdout",
     "output_type": "stream",
     "text": [
      "150\n"
     ]
    },
    {
     "name": "stderr",
     "output_type": "stream",
     "text": [
      "<ipython-input-4-5bda08d16e80>:13: SettingWithCopyWarning: \n",
      "A value is trying to be set on a copy of a slice from a DataFrame\n",
      "\n",
      "See the caveats in the documentation: https://pandas.pydata.org/pandas-docs/stable/user_guide/indexing.html#returning-a-view-versus-a-copy\n",
      "  dynamics[col][dynamics[col]<x] = x\n",
      "<ipython-input-4-5bda08d16e80>:15: SettingWithCopyWarning: \n",
      "A value is trying to be set on a copy of a slice from a DataFrame\n",
      "\n",
      "See the caveats in the documentation: https://pandas.pydata.org/pandas-docs/stable/user_guide/indexing.html#returning-a-view-versus-a-copy\n",
      "  dynamics[col][dynamics[col]>y] = y\n"
     ]
    }
   ],
   "source": [
    "seq_len = [len(x) for x in data]\n",
    "print(max(seq_len))\n",
    "dynamics = pd.concat(data)\n",
    "\n",
    "for col, x, y in limit:\n",
    "    \"\"\"\n",
    "    if col == \"Height\":\n",
    "        name_lis[col][name_lis[col]<x] = x\n",
    "        name_lis[col][name_lis[col]>y] = y\n",
    "        continue\n",
    "    \"\"\"\n",
    "    if x==x:\n",
    "        dynamics[col][dynamics[col]<x] = x\n",
    "    if y==y:\n",
    "        dynamics[col][dynamics[col]>y] = y\n",
    "            \n",
    "data = []\n",
    "st = 0\n",
    "for i in seq_len:\n",
    "    data.append(dynamics.iloc[st:st+i])\n",
    "    st+=i"
   ]
  },
  {
   "cell_type": "code",
   "execution_count": 5,
   "metadata": {},
   "outputs": [
    {
     "name": "stdout",
     "output_type": "stream",
     "text": [
      "Index(['Hours', 'Capillary refill rate', 'Diastolic blood pressure',\n",
      "       'Fraction inspired oxygen', 'Glascow coma scale eye opening',\n",
      "       'Glascow coma scale motor response', 'Glascow coma scale total',\n",
      "       'Glascow coma scale verbal response', 'Glucose', 'Heart Rate', 'Height',\n",
      "       'Mean blood pressure', 'Oxygen saturation', 'Respiratory rate',\n",
      "       'Systolic blood pressure', 'Temperature', 'Weight', 'pH'],\n",
      "      dtype='object')\n",
      "Index(['y_true', 'seq_len'], dtype='object')\n"
     ]
    },
    {
     "data": {
      "image/png": "[encoded data removed]",
      "text/plain": [
       "<Figure size 432x288 with 1 Axes>"
      ]
     },
     "metadata": {
      "needs_background": "light"
     },
     "output_type": "display_data"
    }
   ],
   "source": [
    "times = data\n",
    "statics = name_lis.drop(columns=['stay'])\n",
    "statics[\"seq_len\"]=np.array(seq_len)\n",
    "name_lis = name_lis[\"stay\"].values.tolist()\n",
    "print(dynamics.columns)\n",
    "print(statics.columns)\n",
    "\n",
    "plt.hist(seq_len, range=(0,400), bins=50, density=True)\n",
    "plt.show()"
   ]
  },
  {
   "cell_type": "code",
   "execution_count": 6,
   "metadata": {},
   "outputs": [
    {
     "name": "stdout",
     "output_type": "stream",
     "text": [
      "Hours 1 None continuous None\n",
      "[48.] [0.]\n",
      "Capillary refill rate 1 0.9977933650781616 binary 1.0\n",
      "Diastolic blood pressure 1 0.29253768118900225 continuous 67.0\n",
      "[375.] [0.]\n",
      "Fraction inspired oxygen 1 0.9603396191203786 continuous 0.5\n",
      "[1.1] [0.2]\n",
      "Glascow coma scale eye opening 5 0.8049923748261373 categorical None\n",
      "['1 No Response' 'None' 'Spontaneously' 'To Pain' 'To Speech']\n",
      "Glascow coma scale motor response 6 0.8058649688140594 categorical Localizes Pain\n",
      "['Abnormal Flexion' 'Abnormal extension' 'Flex-withdraws' 'Localizes Pain'\n",
      " 'No response' 'Obeys Commands']\n",
      "Glascow coma scale total 1 0.8846040012480209 int 3.0\n",
      "[15.] [3.]\n",
      "Glascow coma scale verbal response 5 0.8056878256736543 categorical No Response\n",
      "['Confused' 'Inappropriate Words' 'Incomprehensible sounds' 'No Response'\n",
      " 'Oriented']\n",
      "Glucose 1 0.8229450666728874 continuous 189.0\n",
      "[2200.] [0.]\n",
      "Heart Rate 1 0.2856188929355607 continuous 81.0\n",
      "[6632.] [0.]\n",
      "all values are integer\n",
      "Height 1 0.9975790437477948 int 173.0\n",
      "[275.] [0.]\n",
      "Mean blood pressure 1 0.2977149263871839 continuous 81.0\n",
      "[375.] [0.]\n",
      "Oxygen saturation 1 0.2739748296364119 continuous 99.0\n",
      "[150.] [0.]\n",
      "Respiratory rate 1 0.2794830336236634 continuous 23.0\n",
      "[330.] [0.]\n",
      "all values are integer\n",
      "Systolic blood pressure 1 0.2922490034787122 int 129.0\n",
      "[375.] [0.]\n",
      "Temperature 1 0.7694376324928632 continuous 37.611111111111114\n",
      "[47.] [14.2]\n",
      "Weight 1 0.9778811639252004 continuous 104.779752\n",
      "[250.] [0.]\n",
      "pH 1 0.9131561221544106 continuous 7.37\n",
      "[10.] [6.3]\n",
      "y_true 1 None binary None\n",
      "seq_len 1 None int None\n",
      "[150.] [1.]\n"
     ]
    }
   ],
   "source": [
    "from general.missingprocessor import Processor\n",
    "dynamics_types = [\"categorical\" if str(x) in cat_name else \"continuous\" for x in dynamics.columns]\n",
    "dynamics_types[1] = 'binary'\n",
    "#statics_types = [\"binary\", \"continuous\", \"int\"]\n",
    "statics_types = [\"binary\", \"int\"]\n",
    "dynamics_types[6] = 'int'\n",
    "\n",
    "d_P = Processor(dynamics_types, use_pri='Hours')\n",
    "s_P = Processor(statics_types)\n",
    "d_P.fit(dynamics)\n",
    "s = s_P.fit_transform(statics)"
   ]
  },
  {
   "cell_type": "code",
   "execution_count": 7,
   "metadata": {},
   "outputs": [],
   "source": [
    "d_lis=[d_P.transform(ds) for ds in times]\n",
    "d = [x[0].tolist() for x in d_lis]\n",
    "lag = [x[1].tolist() for x in d_lis]\n",
    "mask = [x[2].tolist() for x in d_lis]\n",
    "times = [x[-1].tolist() for x in d_lis]\n",
    "priv = [x[3].tolist() for x in d_lis]\n",
    "nex = [x[4].tolist() for x in d_lis]\n",
    "label = [float(x[-2]) for x in s]\n",
    "from fastNLP import DataSet\n",
    "dataset = DataSet({\"seq_len\": seq_len, \n",
    "                   \"dyn\": d, \"lag\":lag, \"mask\": mask,\n",
    "                   \"sta\": s, \"times\":times, \"priv\":priv, \"nex\": nex, \"label\": label\n",
    "                  })\n",
    "dic = {\n",
    "    \"train_set\": dataset,\n",
    "    \"dynamic_processor\": d_P,\n",
    "    \"static_processor\":s_P,\n",
    "    \"name_lis\": name_lis\n",
    "}\n",
    "from utils.general import make_sure_path_exists\n",
    "make_sure_path_exists(\"./data/inhospital/\")\n",
    "with open(\"./data/inhospital/fullhos.pkl\", \"wb\") as f:\n",
    "    pickle.dump(dic, f)"
   ]
  },
  {
   "cell_type": "code",
   "execution_count": null,
   "metadata": {},
   "outputs": [],
   "source": []
  }
 ],
 "metadata": {
  "kernelspec": {
   "display_name": "Python 3",
   "language": "python",
   "name": "python3"
  },
  "language_info": {
   "codemirror_mode": {
    "name": "ipython",
    "version": 3
   },
   "file_extension": ".py",
   "mimetype": "text/x-python",
   "name": "python",
   "nbconvert_exporter": "python",
   "pygments_lexer": "ipython3",
   "version": "3.8.3"
  }
 },
 "nbformat": 4,
 "nbformat_minor": 4
}
