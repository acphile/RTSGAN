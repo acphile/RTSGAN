{
 "cells": [
  {
   "cell_type": "code",
   "execution_count": null,
   "metadata": {},
   "outputs": [],
   "source": [
    "# Copyright (c) Microsoft Corporation. All rights reserved.\n",
    "# Licensed under the MIT License."
   ]
  },
  {
   "cell_type": "code",
   "execution_count": 1,
   "metadata": {},
   "outputs": [
    {
     "name": "stdout",
     "output_type": "stream",
     "text": [
      "Open 1 None continuous\n",
      "High 1 None continuous\n",
      "Low 1 None continuous\n",
      "Close 1 None continuous\n",
      "Adj_Close 1 None continuous\n",
      "Volume 1 None continuous\n",
      "6 3661\n"
     ]
    }
   ],
   "source": [
    "import numpy as np\n",
    "import pandas as pd \n",
    "from stock_energy.missingprocessor import Processor\n",
    "import pickle\n",
    "\n",
    "data_path = \"../TimeGAN/data\"\n",
    "loc = \"stock\"\n",
    "seq_len = 24\n",
    "df = pd.read_csv('{}/{}_data.csv'.format(data_path,loc), sep = \",\")\n",
    "types = [\"continuous\" for i in range(len(df.columns))]\n",
    "\n",
    "P = Processor(types)\n",
    "# Flip the data to make chronological data\n",
    "ori_data = P.fit_transform(df)\n",
    "ori_data = ori_data[::-1]\n",
    "\n",
    "temp_data = [ori_data[i:i + seq_len] for i in range(0, len(ori_data) - seq_len)]    \n",
    "\n",
    "from fastNLP import DataSet\n",
    "dataset = DataSet({\"seq_len\": [seq_len] * len(temp_data), \"dyn\": temp_data, \"sta\":[0]*len(temp_data)})\n",
    "dic = {\n",
    "    \"train_set\": dataset,\n",
    "    \"dynamic_processor\": P,\n",
    "    \"static_processor\": Processor([])\n",
    "}\n",
    "print(P.dim, len(temp_data))\n",
    "from utils.general import make_sure_path_exists\n",
    "make_sure_path_exists(\"./data\")\n",
    "with open(\"./data/{}.pkl\".format(loc), \"wb\") as f:\n",
    "    pickle.dump(dic, f)"
   ]
  }
 ],
 "metadata": {
  "kernelspec": {
   "display_name": "Python 3",
   "language": "python",
   "name": "python3"
  },
  "language_info": {
   "codemirror_mode": {
    "name": "ipython",
    "version": 3
   },
   "file_extension": ".py",
   "mimetype": "text/x-python",
   "name": "python",
   "nbconvert_exporter": "python",
   "pygments_lexer": "ipython3",
   "version": "3.8.3"
  }
 },
 "nbformat": 4,
 "nbformat_minor": 4
}
