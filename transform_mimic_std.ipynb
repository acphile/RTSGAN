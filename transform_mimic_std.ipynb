{
 "cells": [
  {
   "cell_type": "code",
   "execution_count": null,
   "metadata": {},
   "outputs": [],
   "source": [
    "# Copyright (c) Microsoft Corporation. All rights reserved.\n",
    "# Licensed under the MIT License."
   ]
  },
  {
   "cell_type": "code",
   "execution_count": 1,
   "metadata": {},
   "outputs": [
    {
     "name": "stdout",
     "output_type": "stream",
     "text": [
      "Capillary refill rate 0.0 1.0\n",
      "Diastolic blood pressure 0.0 375.0\n",
      "Fraction inspired oxygen 0.2 1.1\n",
      "Glascow coma scale total 3.0 15.0\n",
      "Glucose 0.0 2200.0\n",
      "Height 0.0 275.0\n",
      "Mean blood pressure 0.0 375.0\n",
      "Oxygen saturation 0.0 150.0\n",
      "Respiratory rate 0.0 330.0\n",
      "Systolic blood pressure 0.0 375.0\n",
      "Temperature 14.2 47.0\n",
      "Weight 0.0 250.0\n",
      "pH 6.3 10.0\n"
     ]
    }
   ],
   "source": [
    "import pandas as pd\n",
    "import numpy as np\n",
    "import pickle\n",
    "%matplotlib inline\n",
    "import matplotlib.pyplot as plt\n",
    "from collections import Counter\n",
    "import sys\n",
    "sys.path.append(\"general\")\n",
    "\n",
    "orders = ['Hours', 'Capillary refill rate', 'Diastolic blood pressure',\n",
    "       'Fraction inspired oxygen', 'Glascow coma scale eye opening',\n",
    "       'Glascow coma scale motor response', 'Glascow coma scale total',\n",
    "       'Glascow coma scale verbal response', 'Glucose', 'Heart Rate', 'Height',\n",
    "       'Mean blood pressure', 'Oxygen saturation', 'Respiratory rate',\n",
    "       'Systolic blood pressure', 'Temperature', 'Weight', 'pH']\n",
    "\n",
    "count = pd.read_csv('../mimic3-benchmarks/mimic3benchmark/resources/variable_ranges.csv', sep=',')\n",
    "limit = []\n",
    "cat_name = [\"Glascow coma scale eye opening\",\n",
    "\"Glascow coma scale motor response\",\n",
    "#\"Glascow coma scale total\",\n",
    "\"Glascow coma scale verbal response\"]\n",
    "for col in orders:\n",
    "    if len(count[(count['LEVEL2']==col)])==1 and col not in cat_name:\n",
    "        x = float(count[(count['LEVEL2']==col)]['OUTLIER LOW'])\n",
    "        y = float(count[(count['LEVEL2']==col)]['OUTLIER HIGH'])\n",
    "        limit.append((col, x, y))\n",
    "        print(col, x, y)\n",
    "\n",
    "refine_eye = {\n",
    "     \"None\": \"None\",\n",
    "     \"1 No Response\": \"1 No Response\",\n",
    "     \"2 To pain\": \"To Pain\", \n",
    "     \"To Pain\": \"To Pain\",\n",
    "     \"3 To speech\": \"To Speech\", \n",
    "     \"To Speech\": \"To Speech\",\n",
    "     \"4 Spontaneously\": \"Spontaneously\",\n",
    "     \"Spontaneously\": \"Spontaneously\"\n",
    "}\n",
    "refine_motor = {\n",
    "    \"1 No Response\": \"No response\",\n",
    "    \"No response\": \"No response\",\n",
    "    \"2 Abnorm extensn\": \"Abnormal extension\",\n",
    "    \"Abnormal extension\": \"Abnormal extension\",\n",
    "    \"3 Abnorm flexion\": \"Abnormal Flexion\",\n",
    "    \"Abnormal Flexion\": \"Abnormal Flexion\",\n",
    "    \"4 Flex-withdraws\": \"Flex-withdraws\",\n",
    "    \"Flex-withdraws\": \"Flex-withdraws\",\n",
    "    \"5 Localizes Pain\": \"Localizes Pain\",\n",
    "    \"Localizes Pain\": \"Localizes Pain\",\n",
    "    \"6 Obeys Commands\": \"Obeys Commands\",\n",
    "    \"Obeys Commands\": \"Obeys Commands\"\n",
    "}\n",
    "refine_verb = {\n",
    "    \"No Response-ETT\": \"No Response\",\n",
    "    \"No Response\": \"No Response\",\n",
    "    \"1 No Response\": \"No Response\",\n",
    "    \"1.0 ET/Trach\": \"No Response\",\n",
    "    \"2 Incomp sounds\": \"Incomprehensible sounds\",\n",
    "    \"Incomprehensible sounds\": \"Incomprehensible sounds\",\n",
    "    \"3 Inapprop words\": \"Inappropriate Words\",\n",
    "    \"Inappropriate Words\": \"Inappropriate Words\",\n",
    "    \"4 Confused\": \"Confused\",\n",
    "    \"Confused\": \"Confused\",\n",
    "    \"5 Oriented\": \"Oriented\",\n",
    "    \"Oriented\": \"Oriented\"\n",
    "}"
   ]
  },
  {
   "cell_type": "code",
   "execution_count": 2,
   "metadata": {},
   "outputs": [],
   "source": [
    "def get_dataset(use_path, name_lis):\n",
    "    data = []\n",
    "    h = Counter()\n",
    "    w = Counter()\n",
    "    l = Counter()\n",
    "    height = []\n",
    "    drop_lis=[]\n",
    "    for i,(fi,label) in enumerate(zip(name_lis[\"stay\"],name_lis[\"y_true\"])):\n",
    "        df = pd.read_csv(\"{}/{}\".format(use_path, fi), sep=',')\n",
    "        if len(df)>150:\n",
    "            l[label]+=1\n",
    "            drop_lis.append(i)\n",
    "            continue\n",
    "            \n",
    "        h[df[\"Height\"].count()] += 1\n",
    "        w[df[\"Weight\"].count()] += 1\n",
    "        \"\"\" \n",
    "        y = float(\"nan\")\n",
    "        for x in df[\"Height\"].unique():\n",
    "            if x==x:\n",
    "                y = x\n",
    "                break\n",
    "        height.append(y)\n",
    "        \"\"\"\n",
    "        if not df[\"Glascow coma scale eye opening\"].isna().all():\n",
    "            df[\"Glascow coma scale eye opening\"].replace(refine_eye, inplace=True)\n",
    "        if not df[\"Glascow coma scale motor response\"].isna().all():\n",
    "            df[\"Glascow coma scale motor response\"].replace(refine_motor, inplace=True)\n",
    "        if not df[\"Glascow coma scale verbal response\"].isna().all():\n",
    "            df[\"Glascow coma scale verbal response\"].replace(refine_verb, inplace=True)\n",
    "        df.drop(columns = [\"Capillary refill rate\"], inplace=True)\n",
    "        data.append(df)\n",
    "        \n",
    "    name_lis.drop(labels=drop_lis, inplace=True)\n",
    "    #name_lis[\"Height\"] = np.array(height, dtype=object)\n",
    "    print(len(name_lis))\n",
    "    print(l)\n",
    "    return data\n"
   ]
  },
  {
   "cell_type": "code",
   "execution_count": 3,
   "metadata": {},
   "outputs": [],
   "source": [
    "raw = pickle.load(open(\"./data/inhospital/fullhos.pkl\", \"rb\"))\n",
    "#d_P = raw[\"dynamic_processor\"] \n",
    "from stdprocessor import StdProcessor\n",
    "\n",
    "def transform_dataset(data, name_lis):\n",
    "    y = name_lis[\"y_true\"].values.reshape(-1, 1)\n",
    "    d_lis=[d_P.transform(ds) for ds in data]\n",
    "    seq_len = [len(ds) for ds in data]\n",
    "    d = [x[0].tolist() for x in d_lis]\n",
    "    lag = [x[1].tolist() for x in d_lis]\n",
    "    mask = [x[2].tolist() for x in d_lis]\n",
    "    times = [x[-1].tolist() for x in d_lis]\n",
    "    priv = [x[3].tolist() for x in d_lis]\n",
    "    nex = [x[4].tolist() for x in d_lis]\n",
    "\n",
    "    from fastNLP import DataSet\n",
    "    dataset = DataSet({\"seq_len\": seq_len, \n",
    "                       \"dyn\": d, \"lag\":lag, \"mask\": mask,\n",
    "                       \"label\": y, \"times\":times, \"priv\":priv, \"nex\": nex\n",
    "                      })\n",
    "    dataset.set_input(\"dyn\", \"mask\", \"label\", \"times\", \"lag\", \"seq_len\",\"priv\", \"nex\")\n",
    "    return dataset"
   ]
  },
  {
   "cell_type": "code",
   "execution_count": 4,
   "metadata": {},
   "outputs": [
    {
     "name": "stdout",
     "output_type": "stream",
     "text": [
      "17737\n",
      "Counter()\n",
      "Hours 1 None continuous None\n",
      "Diastolic blood pressure 1 0.3026073125822528 continuous 55.14953231811523\n",
      "Fraction inspired oxygen 1 0.9821948132684658 continuous 0.5188183784484863\n",
      "Glascow coma scale eye opening 5 0.8054537982073892 categorical Spontaneously\n",
      "Glascow coma scale motor response 6 0.8085821875431202 categorical Obeys Commands\n",
      "Glascow coma scale total 1 0.8857956138750039 int 6.0\n",
      "Glascow coma scale verbal response 5 0.8080124453069709 categorical Confused\n",
      "Glucose 1 0.8229563093759691 continuous 177.68959045410156\n",
      "Heart Rate 1 0.3068284497224732 continuous 76.982177734375\n",
      "all values are integer\n",
      "Height 1 0.9998531133297428 int 176.0\n",
      "Mean blood pressure 1 0.32732433318644666 continuous 74.05464172363281\n",
      "Oxygen saturation 1 0.2772478482586511 continuous 98.96013641357422\n",
      "Respiratory rate 1 0.3018721373790967 continuous 21.3247013092041\n",
      "all values are integer\n",
      "Systolic blood pressure 1 0.3017074462639598 int 112.0\n",
      "Temperature 1 0.7641623231239679 continuous 36.747501373291016\n",
      "Weight 1 0.9806873702686543 continuous 25.69771385192871\n",
      "pH 1 0.9155060394160736 continuous 7.26458215713501\n"
     ]
    }
   ],
   "source": [
    "task = \"fullhos2\"\n",
    "if task != \"\":\n",
    "    use_path = '../inhospital_result/{}/train'.format(task)\n",
    "    name_lis = pd.read_csv(\"{}/listfile.csv\".format(use_path), sep=',')\n",
    "else:\n",
    "    use_path = '../mimic3-benchmarks/data/in-hospital-mortality/train'\n",
    "    name_lis = pd.read_csv(\"{}/listfile.csv\".format(use_path), sep=',')\n",
    "\n",
    "data = get_dataset(use_path, name_lis)\n",
    "\n",
    "def clamp(data):\n",
    "    seq_len = [len(x) for x in data]\n",
    "    print(max(seq_len))\n",
    "    dynamics = pd.concat(data)\n",
    "\n",
    "    for col, x, y in limit:\n",
    "        if col == \"Capillary refill rate\": continue\n",
    "        if x==x:\n",
    "            dynamics[col][dynamics[col]<x] = np.nan\n",
    "        if y==y:\n",
    "            dynamics[col][dynamics[col]>y] = np.nan\n",
    "\n",
    "    data = []\n",
    "    st = 0\n",
    "    for i in seq_len:\n",
    "        data.append(dynamics.iloc[st:st+i])\n",
    "        st+=i\n",
    "    return data\n",
    "\n",
    "if task == \"\":\n",
    "    data=clamp(data)\n",
    "    \n",
    "dynamics_types = [\"categorical\" if str(x) in cat_name else \"continuous\" for x in data[0].columns]\n",
    "dynamics_types[5] = 'int'\n",
    "d_P = StdProcessor(dynamics_types, use_pri='Hours')\n",
    "d_P.fit(pd.concat(data))\n",
    "dataset = transform_dataset(data, name_lis)"
   ]
  },
  {
   "cell_type": "code",
   "execution_count": 5,
   "metadata": {},
   "outputs": [
    {
     "name": "stdout",
     "output_type": "stream",
     "text": [
      "3209\n",
      "Counter({0: 21, 1: 6})\n",
      "150\n"
     ]
    },
    {
     "name": "stderr",
     "output_type": "stream",
     "text": [
      "<ipython-input-4-3f77fb8c4c88>:19: SettingWithCopyWarning: \n",
      "A value is trying to be set on a copy of a slice from a DataFrame\n",
      "\n",
      "See the caveats in the documentation: https://pandas.pydata.org/pandas-docs/stable/user_guide/indexing.html#returning-a-view-versus-a-copy\n",
      "  dynamics[col][dynamics[col]<x] = np.nan\n",
      "<ipython-input-4-3f77fb8c4c88>:21: SettingWithCopyWarning: \n",
      "A value is trying to be set on a copy of a slice from a DataFrame\n",
      "\n",
      "See the caveats in the documentation: https://pandas.pydata.org/pandas-docs/stable/user_guide/indexing.html#returning-a-view-versus-a-copy\n",
      "  dynamics[col][dynamics[col]>y] = np.nan\n"
     ]
    }
   ],
   "source": [
    "test_path = '../mimic3-benchmarks/data/in-hospital-mortality/test'\n",
    "test_lis = pd.read_csv(\"{}/listfile.csv\".format(test_path), sep=',')\n",
    "testdata = get_dataset(test_path, test_lis)\n",
    "testdata = clamp(testdata)\n",
    "test_set = transform_dataset(testdata, test_lis)"
   ]
  },
  {
   "cell_type": "code",
   "execution_count": 6,
   "metadata": {},
   "outputs": [],
   "source": [
    "if task == \"\":\n",
    "    out = './data/inhospital/train1.pkl'\n",
    "else:\n",
    "    out = '../inhospital_result/{}/mimic1.pkl'.format(task)\n",
    "with open(out, \"wb\") as f:\n",
    "    pickle.dump({\"train_set\":dataset,\"dynamic_processor\":d_P, \"test_set\":test_set}, f)"
   ]
  },
  {
   "cell_type": "code",
   "execution_count": 7,
   "metadata": {},
   "outputs": [
    {
     "name": "stdout",
     "output_type": "stream",
     "text": [
      "Hours\t21.72055305013985\t14.563245291210707\n",
      "Diastolic blood pressure\t61.06673692018296\t11.294080646814745\n",
      "Fraction inspired oxygen\t0.5103383442843081\t0.14712084112572896\n",
      "Glascow coma scale total\t11.296872259573224\t3.8669039504754057\n",
      "Glucose\t151.9883507471631\t42.643960872857654\n",
      "Heart Rate\t85.70490040869849\t9.378434954162941\n",
      "Height\t171.8939393939394\t7.272356647224481\n",
      "Mean blood pressure\t80.01414389199014\t13.084530372823366\n",
      "Oxygen saturation\t97.76064189557185\t1.8592325307765045\n",
      "Respiratory rate\t18.75494863295268\t3.262115085316025\n",
      "Systolic blood pressure\t121.0598364147658\t19.365231654132227\n",
      "Temperature\t37.00235537285953\t0.38318506736242897\n",
      "Weight\t81.53598092719915\t30.365245245318746\n",
      "pH\t7.321998108021118\t0.1428644032565164\n"
     ]
    }
   ],
   "source": [
    "dynamics = pd.concat(data)\n",
    "for col in dynamics:\n",
    "    if col not in cat_name:\n",
    "        print(\"{}\\t{}\\t{}\".format(col, dynamics[col].mean(), dynamics[col].std()))"
   ]
  }
 ],
 "metadata": {
  "kernelspec": {
   "display_name": "Python 3",
   "language": "python",
   "name": "python3"
  },
  "language_info": {
   "codemirror_mode": {
    "name": "ipython",
    "version": 3
   },
   "file_extension": ".py",
   "mimetype": "text/x-python",
   "name": "python",
   "nbconvert_exporter": "python",
   "pygments_lexer": "ipython3",
   "version": "3.8.3"
  }
 },
 "nbformat": 4,
 "nbformat_minor": 4
}
